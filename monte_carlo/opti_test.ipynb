{
 "cells": [
  {
   "cell_type": "code",
   "execution_count": 9,
   "metadata": {},
   "outputs": [],
   "source": [
    "import numpy as np"
   ]
  },
  {
   "cell_type": "code",
   "execution_count": 10,
   "metadata": {},
   "outputs": [],
   "source": [
    "n = 10_000\n",
    "z = 1.96"
   ]
  },
  {
   "cell_type": "code",
   "execution_count": null,
   "metadata": {},
   "outputs": [
    {
     "name": "stdout",
     "output_type": "stream",
     "text": [
      "[0.95895958 0.91506986 0.6144144  ... 0.63400033 0.93617812 0.96135134]\n",
      "[0.53138843 0.56617564 0.81172485 ... 0.79691403 0.54930143 0.52952711]\n",
      "0.8337412173525963\n"
     ]
    }
   ],
   "source": []
  },
  {
   "cell_type": "code",
   "execution_count": null,
   "metadata": {},
   "outputs": [
    {
     "name": "stdout",
     "output_type": "stream",
     "text": [
      "0.025565139283095662\n",
      "Estimation de l'intégrale I : 0.8337412173525963\n",
      "Variance de l'estimateur : 2.556513928309566e-06\n",
      "Intervalle de confiance à 95% : [0.8306073532989089, 0.8368750814062837]\n"
     ]
    }
   ],
   "source": [
    "X = np.random.uniform(0, 1, n)\n",
    "print(X)\n",
    "f_X = 1 / (1+X**3)\n",
    "print(f_X)\n",
    "\n",
    "I = np.mean(f_X)\n",
    "print(I)\n",
    "\n",
    "S_squared = np.var(f_X, ddof=1)\n",
    "print(S_squared)\n",
    "variance_estimator = S_squared / n\n",
    "\n",
    "IC_lower = I - z * np.sqrt(variance_estimator)\n",
    "IC_upper = I + z * np.sqrt(variance_estimator)\n",
    "\n",
    "# Affichage des résultats\n",
    "print(f\"Estimation de l'intégrale I : {I}\")\n",
    "print(f\"Variance de l'estimateur : {variance_estimator}\")\n",
    "print(f\"Intervalle de confiance à 95% : [{IC_lower}, {IC_upper}]\")"
   ]
  },
  {
   "cell_type": "code",
   "execution_count": null,
   "metadata": {},
   "outputs": [],
   "source": []
  }
 ],
 "metadata": {
  "kernelspec": {
   "display_name": "Python 3",
   "language": "python",
   "name": "python3"
  },
  "language_info": {
   "codemirror_mode": {
    "name": "ipython",
    "version": 3
   },
   "file_extension": ".py",
   "mimetype": "text/x-python",
   "name": "python",
   "nbconvert_exporter": "python",
   "pygments_lexer": "ipython3",
   "version": "3.12.7"
  }
 },
 "nbformat": 4,
 "nbformat_minor": 2
}
